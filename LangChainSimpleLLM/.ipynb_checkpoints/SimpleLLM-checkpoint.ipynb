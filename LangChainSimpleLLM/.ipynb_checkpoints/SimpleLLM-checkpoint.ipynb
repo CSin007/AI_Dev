{
 "cells": [
  {
   "cell_type": "code",
   "execution_count": 2,
   "id": "d0a8ae9e-2422-4d1b-bb9f-3d3f5bec4f9c",
   "metadata": {},
   "outputs": [
    {
     "name": "stdout",
     "output_type": "stream",
     "text": [
      "Collecting langchain\n",
      "  Downloading langchain-0.2.10-py3-none-any.whl.metadata (6.9 kB)\n",
      "Requirement already satisfied: PyYAML>=5.3 in c:\\users\\chaya\\appdata\\local\\programs\\python\\python312\\lib\\site-packages (from langchain) (6.0.1)\n",
      "Collecting SQLAlchemy<3,>=1.4 (from langchain)\n",
      "  Downloading SQLAlchemy-2.0.31-cp312-cp312-win_amd64.whl.metadata (9.9 kB)\n",
      "Collecting aiohttp<4.0.0,>=3.8.3 (from langchain)\n",
      "  Downloading aiohttp-3.9.5-cp312-cp312-win_amd64.whl.metadata (7.7 kB)\n",
      "Collecting langchain-core<0.3.0,>=0.2.22 (from langchain)\n",
      "  Downloading langchain_core-0.2.22-py3-none-any.whl.metadata (6.0 kB)\n",
      "Collecting langchain-text-splitters<0.3.0,>=0.2.0 (from langchain)\n",
      "  Downloading langchain_text_splitters-0.2.2-py3-none-any.whl.metadata (2.1 kB)\n",
      "Collecting langsmith<0.2.0,>=0.1.17 (from langchain)\n",
      "  Downloading langsmith-0.1.93-py3-none-any.whl.metadata (13 kB)\n",
      "Collecting numpy<2.0.0,>=1.26.0 (from langchain)\n",
      "  Downloading numpy-1.26.4-cp312-cp312-win_amd64.whl.metadata (61 kB)\n",
      "     ---------------------------------------- 0.0/61.0 kB ? eta -:--:--\n",
      "     ---------------------------------------- 61.0/61.0 kB 3.4 MB/s eta 0:00:00\n",
      "Collecting pydantic<3,>=1 (from langchain)\n",
      "  Downloading pydantic-2.8.2-py3-none-any.whl.metadata (125 kB)\n",
      "     ---------------------------------------- 0.0/125.2 kB ? eta -:--:--\n",
      "     -------------------------------------- 125.2/125.2 kB 3.7 MB/s eta 0:00:00\n",
      "Requirement already satisfied: requests<3,>=2 in c:\\users\\chaya\\appdata\\local\\programs\\python\\python312\\lib\\site-packages (from langchain) (2.32.2)\n",
      "Collecting tenacity!=8.4.0,<9.0.0,>=8.1.0 (from langchain)\n",
      "  Downloading tenacity-8.5.0-py3-none-any.whl.metadata (1.2 kB)\n",
      "Collecting aiosignal>=1.1.2 (from aiohttp<4.0.0,>=3.8.3->langchain)\n",
      "  Downloading aiosignal-1.3.1-py3-none-any.whl.metadata (4.0 kB)\n",
      "Requirement already satisfied: attrs>=17.3.0 in c:\\users\\chaya\\appdata\\local\\programs\\python\\python312\\lib\\site-packages (from aiohttp<4.0.0,>=3.8.3->langchain) (23.2.0)\n",
      "Collecting frozenlist>=1.1.1 (from aiohttp<4.0.0,>=3.8.3->langchain)\n",
      "  Downloading frozenlist-1.4.1-cp312-cp312-win_amd64.whl.metadata (12 kB)\n",
      "Collecting multidict<7.0,>=4.5 (from aiohttp<4.0.0,>=3.8.3->langchain)\n",
      "  Downloading multidict-6.0.5-cp312-cp312-win_amd64.whl.metadata (4.3 kB)\n",
      "Collecting yarl<2.0,>=1.0 (from aiohttp<4.0.0,>=3.8.3->langchain)\n",
      "  Downloading yarl-1.9.4-cp312-cp312-win_amd64.whl.metadata (32 kB)\n",
      "Collecting jsonpatch<2.0,>=1.33 (from langchain-core<0.3.0,>=0.2.22->langchain)\n",
      "  Downloading jsonpatch-1.33-py2.py3-none-any.whl.metadata (3.0 kB)\n",
      "Requirement already satisfied: packaging<25,>=23.2 in c:\\users\\chaya\\appdata\\local\\programs\\python\\python312\\lib\\site-packages (from langchain-core<0.3.0,>=0.2.22->langchain) (24.0)\n",
      "Collecting orjson<4.0.0,>=3.9.14 (from langsmith<0.2.0,>=0.1.17->langchain)\n",
      "  Downloading orjson-3.10.6-cp312-none-win_amd64.whl.metadata (51 kB)\n",
      "     ---------------------------------------- 0.0/51.6 kB ? eta -:--:--\n",
      "     ---------------------------------------- 51.6/51.6 kB 2.8 MB/s eta 0:00:00\n",
      "Collecting annotated-types>=0.4.0 (from pydantic<3,>=1->langchain)\n",
      "  Downloading annotated_types-0.7.0-py3-none-any.whl.metadata (15 kB)\n",
      "Collecting pydantic-core==2.20.1 (from pydantic<3,>=1->langchain)\n",
      "  Downloading pydantic_core-2.20.1-cp312-none-win_amd64.whl.metadata (6.7 kB)\n",
      "Collecting typing-extensions>=4.6.1 (from pydantic<3,>=1->langchain)\n",
      "  Downloading typing_extensions-4.12.2-py3-none-any.whl.metadata (3.0 kB)\n",
      "Requirement already satisfied: charset-normalizer<4,>=2 in c:\\users\\chaya\\appdata\\local\\programs\\python\\python312\\lib\\site-packages (from requests<3,>=2->langchain) (3.3.2)\n",
      "Requirement already satisfied: idna<4,>=2.5 in c:\\users\\chaya\\appdata\\local\\programs\\python\\python312\\lib\\site-packages (from requests<3,>=2->langchain) (3.7)\n",
      "Requirement already satisfied: urllib3<3,>=1.21.1 in c:\\users\\chaya\\appdata\\local\\programs\\python\\python312\\lib\\site-packages (from requests<3,>=2->langchain) (2.2.1)\n",
      "Requirement already satisfied: certifi>=2017.4.17 in c:\\users\\chaya\\appdata\\local\\programs\\python\\python312\\lib\\site-packages (from requests<3,>=2->langchain) (2024.2.2)\n",
      "Collecting greenlet!=0.4.17 (from SQLAlchemy<3,>=1.4->langchain)\n",
      "  Downloading greenlet-3.0.3-cp312-cp312-win_amd64.whl.metadata (3.9 kB)\n",
      "Requirement already satisfied: jsonpointer>=1.9 in c:\\users\\chaya\\appdata\\local\\programs\\python\\python312\\lib\\site-packages (from jsonpatch<2.0,>=1.33->langchain-core<0.3.0,>=0.2.22->langchain) (2.4)\n",
      "Downloading langchain-0.2.10-py3-none-any.whl (990 kB)\n",
      "   ---------------------------------------- 0.0/990.0 kB ? eta -:--:--\n",
      "   ---------------------------- ---------- 727.0/990.0 kB 15.3 MB/s eta 0:00:01\n",
      "   --------------------------------------- 990.0/990.0 kB 12.6 MB/s eta 0:00:00\n",
      "Downloading aiohttp-3.9.5-cp312-cp312-win_amd64.whl (369 kB)\n",
      "   ---------------------------------------- 0.0/369.0 kB ? eta -:--:--\n",
      "   ---------------------------------------- 369.0/369.0 kB 7.6 MB/s eta 0:00:00\n",
      "Downloading langchain_core-0.2.22-py3-none-any.whl (373 kB)\n",
      "   ---------------------------------------- 0.0/373.5 kB ? eta -:--:--\n",
      "   - -------------------------------------- 10.2/373.5 kB ? eta -:--:--\n",
      "   ---------------------------------------  368.6/373.5 kB 4.5 MB/s eta 0:00:01\n",
      "   ---------------------------------------- 373.5/373.5 kB 3.9 MB/s eta 0:00:00\n",
      "Downloading langchain_text_splitters-0.2.2-py3-none-any.whl (25 kB)\n",
      "Downloading langsmith-0.1.93-py3-none-any.whl (139 kB)\n",
      "   ---------------------------------------- 0.0/139.8 kB ? eta -:--:--\n",
      "   -------------------------------------- - 133.1/139.8 kB ? eta -:--:--\n",
      "   -------------------------------------- - 133.1/139.8 kB ? eta -:--:--\n",
      "   ---------------------------------------- 139.8/139.8 kB 1.4 MB/s eta 0:00:00\n",
      "Downloading numpy-1.26.4-cp312-cp312-win_amd64.whl (15.5 MB)\n",
      "   ---------------------------------------- 0.0/15.5 MB ? eta -:--:--\n",
      "   -- ------------------------------------- 1.0/15.5 MB 32.7 MB/s eta 0:00:01\n",
      "   --- ------------------------------------ 1.3/15.5 MB 13.6 MB/s eta 0:00:02\n",
      "   ----- ---------------------------------- 2.0/15.5 MB 15.7 MB/s eta 0:00:01\n",
      "   ------ --------------------------------- 2.6/15.5 MB 16.6 MB/s eta 0:00:01\n",
      "   -------- ------------------------------- 3.5/15.5 MB 15.7 MB/s eta 0:00:01\n",
      "   ---------- ----------------------------- 4.1/15.5 MB 15.5 MB/s eta 0:00:01\n",
      "   ------------ --------------------------- 4.7/15.5 MB 15.2 MB/s eta 0:00:01\n",
      "   -------------- ------------------------- 5.5/15.5 MB 15.2 MB/s eta 0:00:01\n",
      "   --------------- ------------------------ 6.1/15.5 MB 15.5 MB/s eta 0:00:01\n",
      "   ---------------- ----------------------- 6.5/15.5 MB 14.8 MB/s eta 0:00:01\n",
      "   ----------------- ---------------------- 6.9/15.5 MB 14.2 MB/s eta 0:00:01\n",
      "   ------------------ --------------------- 7.3/15.5 MB 13.8 MB/s eta 0:00:01\n",
      "   -------------------- ------------------- 7.9/15.5 MB 13.7 MB/s eta 0:00:01\n",
      "   --------------------- ------------------ 8.5/15.5 MB 13.6 MB/s eta 0:00:01\n",
      "   ----------------------- ---------------- 9.0/15.5 MB 13.4 MB/s eta 0:00:01\n",
      "   ------------------------ --------------- 9.5/15.5 MB 13.2 MB/s eta 0:00:01\n",
      "   -------------------------- ------------- 10.3/15.5 MB 13.1 MB/s eta 0:00:01\n",
      "   --------------------------- ------------ 10.8/15.5 MB 12.8 MB/s eta 0:00:01\n",
      "   ----------------------------- ---------- 11.3/15.5 MB 12.6 MB/s eta 0:00:01\n",
      "   ------------------------------ --------- 11.9/15.5 MB 12.6 MB/s eta 0:00:01\n",
      "   ------------------------------- -------- 12.4/15.5 MB 12.1 MB/s eta 0:00:01\n",
      "   --------------------------------- ------ 12.9/15.5 MB 11.9 MB/s eta 0:00:01\n",
      "   ---------------------------------- ----- 13.4/15.5 MB 11.9 MB/s eta 0:00:01\n",
      "   ----------------------------------- ---- 13.9/15.5 MB 11.7 MB/s eta 0:00:01\n",
      "   ------------------------------------ --- 14.2/15.5 MB 11.5 MB/s eta 0:00:01\n",
      "   ------------------------------------- -- 14.7/15.5 MB 11.3 MB/s eta 0:00:01\n",
      "   ---------------------------------------  15.2/15.5 MB 11.1 MB/s eta 0:00:01\n",
      "   ---------------------------------------  15.5/15.5 MB 10.9 MB/s eta 0:00:01\n",
      "   ---------------------------------------  15.5/15.5 MB 10.9 MB/s eta 0:00:01\n",
      "   ---------------------------------------- 15.5/15.5 MB 10.4 MB/s eta 0:00:00\n",
      "Downloading pydantic-2.8.2-py3-none-any.whl (423 kB)\n",
      "   ---------------------------------------- 0.0/423.9 kB ? eta -:--:--\n",
      "   --------------------------------------  419.8/423.9 kB 13.2 MB/s eta 0:00:01\n",
      "   ---------------------------------------- 423.9/423.9 kB 6.7 MB/s eta 0:00:00\n",
      "Downloading pydantic_core-2.20.1-cp312-none-win_amd64.whl (1.9 MB)\n",
      "   ---------------------------------------- 0.0/1.9 MB ? eta -:--:--\n",
      "   ------------ --------------------------- 0.6/1.9 MB 9.4 MB/s eta 0:00:01\n",
      "   -------------------- ------------------- 1.0/1.9 MB 8.9 MB/s eta 0:00:01\n",
      "   ---------------------------- ----------- 1.4/1.9 MB 8.5 MB/s eta 0:00:01\n",
      "   ------------------------------------- -- 1.8/1.9 MB 8.0 MB/s eta 0:00:01\n",
      "   ---------------------------------------- 1.9/1.9 MB 8.0 MB/s eta 0:00:00\n",
      "Downloading SQLAlchemy-2.0.31-cp312-cp312-win_amd64.whl (2.1 MB)\n",
      "   ---------------------------------------- 0.0/2.1 MB ? eta -:--:--\n",
      "   ------- -------------------------------- 0.4/2.1 MB 12.6 MB/s eta 0:00:01\n",
      "   ---------------- ----------------------- 0.8/2.1 MB 10.8 MB/s eta 0:00:01\n",
      "   ---------------------- ----------------- 1.2/2.1 MB 9.2 MB/s eta 0:00:01\n",
      "   ----------------------------- ---------- 1.5/2.1 MB 8.9 MB/s eta 0:00:01\n",
      "   ----------------------------------- ---- 1.9/2.1 MB 9.1 MB/s eta 0:00:01\n",
      "   ---------------------------------------  2.1/2.1 MB 7.8 MB/s eta 0:00:01\n",
      "   ---------------------------------------- 2.1/2.1 MB 7.0 MB/s eta 0:00:00\n",
      "Downloading tenacity-8.5.0-py3-none-any.whl (28 kB)\n",
      "Downloading aiosignal-1.3.1-py3-none-any.whl (7.6 kB)\n",
      "Downloading annotated_types-0.7.0-py3-none-any.whl (13 kB)\n",
      "Downloading frozenlist-1.4.1-cp312-cp312-win_amd64.whl (50 kB)\n",
      "   ---------------------------------------- 0.0/50.5 kB ? eta -:--:--\n",
      "   ---------------------------------------- 50.5/50.5 kB 2.5 MB/s eta 0:00:00\n",
      "Downloading greenlet-3.0.3-cp312-cp312-win_amd64.whl (293 kB)\n",
      "   ---------------------------------------- 0.0/293.6 kB ? eta -:--:--\n",
      "   ------------------------------------- -- 276.5/293.6 kB 8.6 MB/s eta 0:00:01\n",
      "   ---------------------------------------- 293.6/293.6 kB 3.6 MB/s eta 0:00:00\n",
      "Downloading jsonpatch-1.33-py2.py3-none-any.whl (12 kB)\n",
      "Downloading multidict-6.0.5-cp312-cp312-win_amd64.whl (27 kB)\n",
      "Downloading orjson-3.10.6-cp312-none-win_amd64.whl (136 kB)\n",
      "   ---------------------------------------- 0.0/136.4 kB ? eta -:--:--\n",
      "   ---------------------------------------  133.1/136.4 kB 4.0 MB/s eta 0:00:01\n",
      "   ---------------------------------------- 136.4/136.4 kB 2.7 MB/s eta 0:00:00\n",
      "Downloading typing_extensions-4.12.2-py3-none-any.whl (37 kB)\n",
      "Downloading yarl-1.9.4-cp312-cp312-win_amd64.whl (76 kB)\n",
      "   ---------------------------------------- 0.0/76.4 kB ? eta -:--:--\n",
      "   ---------------------------------------- 76.4/76.4 kB 4.1 MB/s eta 0:00:00\n",
      "Installing collected packages: typing-extensions, tenacity, orjson, numpy, multidict, jsonpatch, greenlet, frozenlist, annotated-types, yarl, SQLAlchemy, pydantic-core, aiosignal, pydantic, aiohttp, langsmith, langchain-core, langchain-text-splitters, langchain\n",
      "Successfully installed SQLAlchemy-2.0.31 aiohttp-3.9.5 aiosignal-1.3.1 annotated-types-0.7.0 frozenlist-1.4.1 greenlet-3.0.3 jsonpatch-1.33 langchain-0.2.10 langchain-core-0.2.22 langchain-text-splitters-0.2.2 langsmith-0.1.93 multidict-6.0.5 numpy-1.26.4 orjson-3.10.6 pydantic-2.8.2 pydantic-core-2.20.1 tenacity-8.5.0 typing-extensions-4.12.2 yarl-1.9.4\n"
     ]
    },
    {
     "name": "stderr",
     "output_type": "stream",
     "text": [
      "\n",
      "[notice] A new release of pip is available: 24.0 -> 24.1.2\n",
      "[notice] To update, run: python.exe -m pip install --upgrade pip\n"
     ]
    }
   ],
   "source": [
    "!pip install langchain\n"
   ]
  },
  {
   "cell_type": "code",
   "execution_count": 5,
   "id": "e7b653c3-b30d-4009-8ba4-cad079f16f60",
   "metadata": {},
   "outputs": [
    {
     "name": "stdout",
     "output_type": "stream",
     "text": [
      "Langchain is installed and working!\n"
     ]
    }
   ],
   "source": [
    "import langchain\n",
    "print(\"Langchain is installed and working!\")\n"
   ]
  },
  {
   "cell_type": "code",
   "execution_count": 6,
   "id": "523196de-8ead-4e24-b36f-377eb867bb7f",
   "metadata": {},
   "outputs": [
    {
     "name": "stdin",
     "output_type": "stream",
     "text": [
      "Enter your LangChain API key:  ········\n"
     ]
    }
   ],
   "source": [
    "import getpass\n",
    "import os\n",
    "\n",
    "os.environ[\"LANGCHAIN_TRACING_V2\"] = \"true\"\n",
    "os.environ[\"LANGCHAIN_API_KEY\"] = getpass.getpass(\"Enter your LangChain API key: \")\n"
   ]
  },
  {
   "cell_type": "code",
   "execution_count": 7,
   "id": "d6ac96a3-8600-474d-9c50-638edd592510",
   "metadata": {},
   "outputs": [
    {
     "name": "stderr",
     "output_type": "stream",
     "text": [
      "\n",
      "[notice] A new release of pip is available: 24.0 -> 24.1.2\n",
      "[notice] To update, run: python.exe -m pip install --upgrade pip\n"
     ]
    }
   ],
   "source": [
    "!pip install -qU langchain-openai\n",
    "\n"
   ]
  },
  {
   "cell_type": "code",
   "execution_count": 8,
   "id": "aa2bdb66-96f3-4547-8740-ab149e593bf5",
   "metadata": {},
   "outputs": [
    {
     "name": "stdin",
     "output_type": "stream",
     "text": [
      " ········\n"
     ]
    }
   ],
   "source": [
    "import getpass\n",
    "import os\n",
    "\n",
    "os.environ[\"OPENAI_API_KEY\"] = getpass.getpass()\n",
    "\n",
    "from langchain_openai import ChatOpenAI\n",
    "\n",
    "model = ChatOpenAI(model=\"gpt-4\")"
   ]
  },
  {
   "cell_type": "code",
   "execution_count": 9,
   "id": "c4e4878a-e35f-4651-990e-be690c5cda9a",
   "metadata": {},
   "outputs": [
    {
     "data": {
      "text/plain": [
       "AIMessage(content='Ciao!', response_metadata={'token_usage': {'completion_tokens': 3, 'prompt_tokens': 20, 'total_tokens': 23}, 'model_name': 'gpt-4-0613', 'system_fingerprint': None, 'finish_reason': 'stop', 'logprobs': None}, id='run-63241741-5954-4de2-bf39-ec3b2063474a-0', usage_metadata={'input_tokens': 20, 'output_tokens': 3, 'total_tokens': 23})"
      ]
     },
     "execution_count": 9,
     "metadata": {},
     "output_type": "execute_result"
    }
   ],
   "source": [
    "from langchain_core.messages import HumanMessage, SystemMessage\n",
    "\n",
    "messages = [\n",
    "    SystemMessage(content=\"Translate the following from English into Italian\"),\n",
    "    HumanMessage(content=\"hi!\"),\n",
    "]\n",
    "\n",
    "model.invoke(messages)"
   ]
  },
  {
   "cell_type": "code",
   "execution_count": 10,
   "id": "35287f9b-42bf-400f-b1e5-494a480cbe1b",
   "metadata": {},
   "outputs": [
    {
     "ename": "AttributeError",
     "evalue": "'list' object has no attribute 'content'",
     "output_type": "error",
     "traceback": [
      "\u001b[1;31m---------------------------------------------------------------------------\u001b[0m",
      "\u001b[1;31mAttributeError\u001b[0m                            Traceback (most recent call last)",
      "Cell \u001b[1;32mIn[10], line 1\u001b[0m\n\u001b[1;32m----> 1\u001b[0m model\u001b[38;5;241m.\u001b[39minvoke(\u001b[43mmessages\u001b[49m\u001b[38;5;241;43m.\u001b[39;49m\u001b[43mcontent\u001b[49m)\n",
      "\u001b[1;31mAttributeError\u001b[0m: 'list' object has no attribute 'content'"
     ]
    }
   ],
   "source": [
    "model.invoke(messages.content)"
   ]
  },
  {
   "cell_type": "code",
   "execution_count": 11,
   "id": "3bde0693-e141-4611-8ee2-c3daf7da9b24",
   "metadata": {},
   "outputs": [],
   "source": [
    "from langchain_core.output_parsers import StrOutputParser\n",
    "\n",
    "parser = StrOutputParser()"
   ]
  },
  {
   "cell_type": "code",
   "execution_count": 12,
   "id": "baee86b1-6731-48d7-b747-1c4855f679f4",
   "metadata": {},
   "outputs": [],
   "source": [
    "result = model.invoke(messages)"
   ]
  },
  {
   "cell_type": "code",
   "execution_count": 13,
   "id": "5bc1dff5-418d-4926-b5a3-3f81fb16412c",
   "metadata": {},
   "outputs": [
    {
     "data": {
      "text/plain": [
       "'Ciao!'"
      ]
     },
     "execution_count": 13,
     "metadata": {},
     "output_type": "execute_result"
    }
   ],
   "source": [
    "parser.invoke(result)\n",
    "\n"
   ]
  },
  {
   "cell_type": "code",
   "execution_count": 14,
   "id": "a3255720-d119-4394-8cc4-c3c2983d371c",
   "metadata": {},
   "outputs": [
    {
     "data": {
      "text/plain": [
       "'ciao!'"
      ]
     },
     "execution_count": 14,
     "metadata": {},
     "output_type": "execute_result"
    }
   ],
   "source": [
    "chain = model | parser\n",
    "chain.invoke(messages)"
   ]
  },
  {
   "cell_type": "code",
   "execution_count": 15,
   "id": "c72428d6-c0f3-4aa4-8a57-f5d4bd4664ea",
   "metadata": {},
   "outputs": [],
   "source": [
    "from langchain_core.prompts import ChatPromptTemplate\n"
   ]
  },
  {
   "cell_type": "code",
   "execution_count": 16,
   "id": "8ace75dd-dea8-4239-98a9-eecf65edec56",
   "metadata": {},
   "outputs": [],
   "source": [
    "system_template = \"Translate the following into {language}:\""
   ]
  },
  {
   "cell_type": "code",
   "execution_count": 17,
   "id": "e5df4ef6-2dea-4aca-875f-27708edc68d9",
   "metadata": {},
   "outputs": [],
   "source": [
    "prompt_template = ChatPromptTemplate.from_messages(\n",
    "    [(\"system\", system_template), (\"user\", \"{text}\")]\n",
    ")"
   ]
  },
  {
   "cell_type": "code",
   "execution_count": 18,
   "id": "02cf18dd-c998-47d1-b28c-c5c02d28182a",
   "metadata": {},
   "outputs": [
    {
     "data": {
      "text/plain": [
       "ChatPromptValue(messages=[SystemMessage(content='Translate the following into italian:'), HumanMessage(content='hi')])"
      ]
     },
     "execution_count": 18,
     "metadata": {},
     "output_type": "execute_result"
    }
   ],
   "source": [
    "result = prompt_template.invoke({\"language\": \"italian\", \"text\": \"hi\"})\n",
    "\n",
    "result"
   ]
  },
  {
   "cell_type": "code",
   "execution_count": 19,
   "id": "99560547-be43-48f9-8348-e05fa044feb5",
   "metadata": {},
   "outputs": [
    {
     "data": {
      "text/plain": [
       "[SystemMessage(content='Translate the following into italian:'),\n",
       " HumanMessage(content='hi')]"
      ]
     },
     "execution_count": 19,
     "metadata": {},
     "output_type": "execute_result"
    }
   ],
   "source": [
    "result.to_messages()"
   ]
  },
  {
   "cell_type": "code",
   "execution_count": 20,
   "id": "edb852b4-90dc-40b7-947b-534a317ccd59",
   "metadata": {},
   "outputs": [],
   "source": [
    "chain = prompt_template | model | parser"
   ]
  },
  {
   "cell_type": "code",
   "execution_count": 21,
   "id": "e332499f-34cb-4337-abe1-09757d053bf9",
   "metadata": {},
   "outputs": [
    {
     "data": {
      "text/plain": [
       "'ciao'"
      ]
     },
     "execution_count": 21,
     "metadata": {},
     "output_type": "execute_result"
    }
   ],
   "source": [
    "chain.invoke({\"language\": \"italian\", \"text\": \"hi\"})"
   ]
  },
  {
   "cell_type": "code",
   "execution_count": null,
   "id": "2e29441f-e241-4ffe-9408-01e3e13ca4f4",
   "metadata": {},
   "outputs": [],
   "source": []
  }
 ],
 "metadata": {
  "kernelspec": {
   "display_name": "Python 3 (ipykernel)",
   "language": "python",
   "name": "python3"
  },
  "language_info": {
   "codemirror_mode": {
    "name": "ipython",
    "version": 3
   },
   "file_extension": ".py",
   "mimetype": "text/x-python",
   "name": "python",
   "nbconvert_exporter": "python",
   "pygments_lexer": "ipython3",
   "version": "3.12.3"
  }
 },
 "nbformat": 4,
 "nbformat_minor": 5
}
